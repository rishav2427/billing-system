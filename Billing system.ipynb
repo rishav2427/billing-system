{
 "cells": [
  {
   "cell_type": "code",
   "execution_count": 1,
   "id": "00380e91",
   "metadata": {},
   "outputs": [],
   "source": [
    "# To read item details from one dictionary and create one final printable bill with good format\n",
    "\n",
    "def write_sales_log(order,file):\n",
    "    total = 0\n",
    "    name = \"Name of item\"\n",
    "    num = \"Number of items\"\n",
    "    cost = \"Price\"\n",
    "    total_num = \"Total price\"\n",
    "    file.write(f'{name:{10}} {num:^20}{cost:^30}{total_num:>8}' +'\\n')\n",
    "    for item, price in order.items():\n",
    "        price[1]=float(price[1])\n",
    "        tot_price = price[1]*price[0]\n",
    "        file.write(f'{item:{10}} {price[0]:^30} {price[1]:^10} {tot_price:>8}'+'\\n')\n",
    "        total += tot_price\n",
    "    \n",
    "    file.write('\\n'+'Total = '+ format(total, '.2f')+'\\n')\n",
    "    file\n",
    "    file.close()"
   ]
  },
  {
   "cell_type": "code",
   "execution_count": 2,
   "id": "34a6572e",
   "metadata": {},
   "outputs": [],
   "source": [
    "bill = {\"chocolate\" : [5,70] , \"cookies\" : [4,40] , \"chips\" : [10,10]}\n",
    "file = open('sales.txt', 'w')\n",
    "write_sales_log(bill,file)"
   ]
  },
  {
   "cell_type": "code",
   "execution_count": 3,
   "id": "b31db559",
   "metadata": {},
   "outputs": [],
   "source": [
    "bill = {\"Cake\" : [2,500.00], \"soft drink\" : [50,50.00]}\n",
    "file = (open ('Bakery.txt', 'w'))\n",
    "write_sales_log(bill,file)"
   ]
  },
  {
   "cell_type": "code",
   "execution_count": 6,
   "id": "2d36bb7f",
   "metadata": {},
   "outputs": [],
   "source": [
    "bill = {\"Burger\" : [7,60], \"pizza\" : [2,400]}\n",
    "file = (open ('restaurant_bill.txt', 'w'))\n",
    "write_sales_log(bill,file)"
   ]
  },
  {
   "cell_type": "code",
   "execution_count": null,
   "id": "6431cc5a",
   "metadata": {},
   "outputs": [],
   "source": []
  }
 ],
 "metadata": {
  "kernelspec": {
   "display_name": "Python 3",
   "language": "python",
   "name": "python3"
  },
  "language_info": {
   "codemirror_mode": {
    "name": "ipython",
    "version": 3
   },
   "file_extension": ".py",
   "mimetype": "text/x-python",
   "name": "python",
   "nbconvert_exporter": "python",
   "pygments_lexer": "ipython3",
   "version": "3.8.8"
  }
 },
 "nbformat": 4,
 "nbformat_minor": 5
}
